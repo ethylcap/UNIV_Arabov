{
  "nbformat": 4,
  "nbformat_minor": 0,
  "metadata": {
    "colab": {
      "provenance": [],
      "authorship_tag": "ABX9TyPUyVRn+HZwUpS8r07kmP7b",
      "include_colab_link": true
    },
    "kernelspec": {
      "name": "python3",
      "display_name": "Python 3"
    },
    "language_info": {
      "name": "python"
    }
  },
  "cells": [
    {
      "cell_type": "markdown",
      "metadata": {
        "id": "view-in-github",
        "colab_type": "text"
      },
      "source": [
        "<a href=\"https://colab.research.google.com/github/ethylcap/UNIV_Arabov/blob/main/homework2_Veyukov_09_312.ipynb\" target=\"_parent\"><img src=\"https://colab.research.google.com/assets/colab-badge.svg\" alt=\"Open In Colab\"/></a>"
      ]
    },
    {
      "cell_type": "markdown",
      "source": [
        "Вариант 9"
      ],
      "metadata": {
        "id": "cUB2evEFxeKU"
      }
    },
    {
      "cell_type": "markdown",
      "source": [
        "1. Определите класс Event с полями название, дата и место проведения. Реализуйте методы update_location(new_location), который обновляет место проведения, и display_info(), который выводит информацию о событии.\n"
      ],
      "metadata": {
        "id": "1n7zyOq7xh2f"
      }
    },
    {
      "cell_type": "code",
      "source": [
        "class Event:\n",
        "  def __init__(self, name, date, place):\n",
        "    self.name = name\n",
        "    self.date = date\n",
        "    self.place = place\n",
        "\n",
        "  def update_location(self, new_location):\n",
        "    self.place = new_location\n",
        "\n",
        "  def display_info(self):\n",
        "    print(f\"Событие {self.name} пройдет {self.date} в {self.place}\")\n",
        "\n",
        "event = Event(\"22 March\", \"today\", \"hear\")\n",
        "event.update_location(\"NOT hear\")\n",
        "event.display_info()"
      ],
      "metadata": {
        "colab": {
          "base_uri": "https://localhost:8080/"
        },
        "id": "sF51z1U3xpMj",
        "outputId": "634b0fb6-85b8-4163-c578-fa587b446044"
      },
      "execution_count": null,
      "outputs": [
        {
          "output_type": "stream",
          "name": "stdout",
          "text": [
            "Событие 22 March пройдет today в NOT hear\n"
          ]
        }
      ]
    },
    {
      "cell_type": "markdown",
      "source": [
        "2. Определите класс Bicycle, который наследуется от класса Vehicle. Класс Bicycle должен добавлять методы для работы с велосипедными функциями.\n"
      ],
      "metadata": {
        "id": "BVDv606-8xGk"
      }
    },
    {
      "cell_type": "code",
      "source": [
        "class Vehicle:\n",
        "  def __init__(self, name, date):\n",
        "    self.name = name\n",
        "    self.date = date\n",
        "\n",
        "  def display_info(self):\n",
        "    print(f\"{self.name}\\nДата производства: {self.date}\")\n",
        "\n",
        "class Bicycle(Vehicle):\n",
        "  def __init__(self, name, date, speed, wheel_count):\n",
        "    super().__init__(name, date)\n",
        "    self.speed = speed\n",
        "    self.wheel_count = wheel_count\n",
        "\n",
        "  def change_speed_bicycle(self, speed):\n",
        "    self.speed = speed\n",
        "\n",
        "  def display_info_bicycle(self):\n",
        "    self.display_info()\n",
        "    print(f\"Cкорость: {self.speed} c {self.wheel_count} колесами\")\n",
        "\n",
        "bicycle = Bicycle(\"BMX\", \"today\", \"500 km/h\", 2)\n",
        "bicycle.change_speed_bicycle(\"600000 km/h\")\n",
        "bicycle.display_info_bicycle()"
      ],
      "metadata": {
        "colab": {
          "base_uri": "https://localhost:8080/"
        },
        "id": "vLCWfdqFcVqn",
        "outputId": "8f7666b3-5143-46b7-906c-6fcc8140ddc2"
      },
      "execution_count": null,
      "outputs": [
        {
          "output_type": "stream",
          "name": "stdout",
          "text": [
            "BMX\n",
            "Дата производства: today\n",
            "Cкорость: 600000 km/h c 2 колесами\n"
          ]
        }
      ]
    },
    {
      "cell_type": "markdown",
      "source": [
        "3. Создать класс Bicycle, в котором поля type, gearCount и color будут приватными. Реализовать методы для безопасного доступа и изменения типа велосипеда и количества передач.\n"
      ],
      "metadata": {
        "id": "ay4UWLEEfRZl"
      }
    },
    {
      "cell_type": "code",
      "source": [
        "class Bicycle:\n",
        "    def __init__(self, bike_type, gear_count, color):\n",
        "        self.__type = bike_type\n",
        "        self.__gear_count = gear_count\n",
        "        self.__color = color\n",
        "\n",
        "    def get_type(self):\n",
        "        return self.__type\n",
        "\n",
        "    def set_type(self, new_type):\n",
        "      self.__type = new_type\n",
        "\n",
        "    def get_gear_count(self):\n",
        "        return self.__gear_count\n",
        "\n",
        "    def set_gear_count(self, new_gear_count):\n",
        "        if new_gear_count > 0:\n",
        "            self.__gear_count = new_gear_count\n",
        "        else:\n",
        "            print(\"Ошибка: количество передач должно быть положительным числом.\")\n",
        "\n",
        "    def display_info(self):\n",
        "        print(f\"Тип: {self.__type}\\nКоличество передач: {self.__gear_count}\\nЦвет: {self.__color}\")\n",
        "\n",
        "\n",
        "bike = Bicycle(\"Горный\", 21, \"Синий\")\n",
        "bike.display_info()\n",
        "print()\n",
        "\n",
        "bike.set_type(\"Шоссейный\")\n",
        "bike.set_gear_count(18)\n",
        "\n",
        "bike.display_info()"
      ],
      "metadata": {
        "colab": {
          "base_uri": "https://localhost:8080/"
        },
        "id": "5uB41rfIfu-e",
        "outputId": "a0dd1f29-66eb-4906-a5a7-d0e5b921c8ca"
      },
      "execution_count": null,
      "outputs": [
        {
          "output_type": "stream",
          "name": "stdout",
          "text": [
            "Тип: Горный\n",
            "Количество передач: 21\n",
            "Цвет: Синий\n",
            "\n",
            "Тип: Шоссейный\n",
            "Количество передач: 18\n",
            "Цвет: Синий\n"
          ]
        }
      ]
    },
    {
      "cell_type": "markdown",
      "source": [
        "4. Фруктовый сок и фрукт.  Постройте класс `Фруктовый сок`, который включает в себя фрукты. Реализуйте метод для добавления фруктов (например, яблок или апельсинов) в сок. Класс `Фрукт` должен иметь поле `тип фрукта`. Фрукты не могут существовать отдельно от сока."
      ],
      "metadata": {
        "id": "qG3XNP1Ygi0d"
      }
    },
    {
      "cell_type": "code",
      "source": [
        "class FruitJuice:\n",
        "    def __init__(self):\n",
        "        self.fruits = []\n",
        "\n",
        "    def add_fruit(self, fruit_type):\n",
        "        fruit = self.Fruit(fruit_type)\n",
        "        self.fruits.append(fruit)\n",
        "\n",
        "    def display_juice(self):\n",
        "        if self.fruits:\n",
        "            print(f\"Фруктовый сок содержит:\")\n",
        "            for i in self.fruits:\n",
        "              print(i)\n",
        "        else:\n",
        "            print(\"Фруктовый сок пуст.\")\n",
        "\n",
        "    class Fruit:\n",
        "      def __init__(self, fruit_type):\n",
        "          self.fruit_type = fruit_type\n",
        "\n",
        "      def __str__(self):\n",
        "          return self.fruit_type\n",
        "\n",
        "\n",
        "juice = FruitJuice()\n",
        "juice.add_fruit(\"Яблоко\")\n",
        "juice.add_fruit(\"Апельсин\")\n",
        "juice.display_juice()"
      ],
      "metadata": {
        "colab": {
          "base_uri": "https://localhost:8080/"
        },
        "id": "34KDgSI9hVBa",
        "outputId": "5caf9c38-aec1-4c19-c84d-0933c96e18d9"
      },
      "execution_count": null,
      "outputs": [
        {
          "output_type": "stream",
          "name": "stdout",
          "text": [
            "Фруктовый сок содержит:\n",
            "Яблоко\n",
            "Апельсин\n"
          ]
        }
      ]
    },
    {
      "cell_type": "markdown",
      "source": [
        "5. Комната и мебель. Реализуйте класс `Комната`, в котором может быть установлена мебель. У класса `Мебель` есть поля `тип` и `размер`. Мебель может существовать независимо от комнаты.\n"
      ],
      "metadata": {
        "id": "FdCtV_mgitW0"
      }
    },
    {
      "cell_type": "code",
      "source": [
        "class Furniture:\n",
        "    def __init__(self, type, size):\n",
        "        self.type = type\n",
        "        self.size = size\n",
        "\n",
        "    def __repr__(self):\n",
        "        return f\"{self.type} ({self.size} м^2)\"\n",
        "\n",
        "class Room:\n",
        "    def __init__(self, area):\n",
        "        self.area = area\n",
        "        self.furniture = []\n",
        "\n",
        "    def add_furniture(self, i: Furniture):\n",
        "        if self.remaining_space() >= i.size:\n",
        "            self.furniture.append(i)\n",
        "        else:\n",
        "            print(f\"Недостаточно места для {i.type}!\\nВыкидывай свой хлам или снимай квартиру побольше!\")\n",
        "\n",
        "\n",
        "    def remaining_space(self):\n",
        "        used_space = sum(i.size for i in self.furniture)\n",
        "        return self.area - used_space\n",
        "\n",
        "    def __repr__(self):\n",
        "        return f\"Комната ({self.area} м^2), мебель: {self.furniture}\"\n",
        "\n",
        "chair = Furniture(\"Стул\", 1.5)\n",
        "table = Furniture(\"Стол\", 3.0)\n",
        "bed = Furniture(\"Кровать\", 6.0)\n",
        "\n",
        "room = Room(10)\n",
        "room.add_furniture(chair)\n",
        "room.add_furniture(table)\n",
        "room.add_furniture(bed)  # Недостаточно места\n",
        "\n",
        "print(room)\n"
      ],
      "metadata": {
        "colab": {
          "base_uri": "https://localhost:8080/"
        },
        "id": "HFD1w1aMlHVm",
        "outputId": "6a69e9a9-6bd0-4c08-9478-f7dfabd7975a"
      },
      "execution_count": null,
      "outputs": [
        {
          "output_type": "stream",
          "name": "stdout",
          "text": [
            "Недостаточно места для Кровать!\n",
            "Выкидывай свой хлам или снимай квартиру побольше!\n",
            "Комната (10 м^2), мебель: [Стул (1.5 м^2), Стол (3.0 м^2)]\n"
          ]
        }
      ]
    },
    {
      "cell_type": "markdown",
      "source": [
        "6. Определить абстрактный класс Plant с абстрактным методом grow(). Реализовать подклассы Flower и Tree, которые реализуют метод grow().\n"
      ],
      "metadata": {
        "id": "RzkUg2RtlMbb"
      }
    },
    {
      "cell_type": "code",
      "source": [
        "from abc import ABC, abstractmethod\n",
        "\n",
        "class Plant(ABC):\n",
        "    @abstractmethod\n",
        "    def grow(self):\n",
        "        pass\n",
        "\n",
        "class Flower(Plant):\n",
        "    def grow(self):\n",
        "        return \"Цветок ТУТУТУ!\"\n",
        "\n",
        "class Tree(Plant):\n",
        "    def grow(self):\n",
        "        return \"Дерево ТУТУТУ!\"\n",
        "\n",
        "flower = Flower()\n",
        "tree = Tree()\n",
        "\n",
        "print(flower.grow())\n",
        "print(tree.grow())"
      ],
      "metadata": {
        "id": "p2yIToxRA0qR",
        "colab": {
          "base_uri": "https://localhost:8080/"
        },
        "outputId": "a6042849-6d21-4a30-b25d-cbe85a71cae7"
      },
      "execution_count": null,
      "outputs": [
        {
          "output_type": "stream",
          "name": "stdout",
          "text": [
            "Цветок ТУТУТУ!\n",
            "Дерево ТУТУТУ!\n"
          ]
        }
      ]
    },
    {
      "cell_type": "markdown",
      "source": [
        "7. Создать интерфейс IEvent, который содержит методы updateLocation(String location) и getDetails(). Создать класс Event, реализующий этот интерфейс. Класс должен содержать поля title, date и location.\n"
      ],
      "metadata": {
        "id": "PIW0W80xlhey"
      }
    },
    {
      "cell_type": "code",
      "source": [
        "from abc import ABC, abstractmethod\n",
        "\n",
        "class IEvent(ABC):\n",
        "    @abstractmethod\n",
        "    def update_location(self, location: str):\n",
        "        pass\n",
        "\n",
        "    @abstractmethod\n",
        "    def get_details(self):\n",
        "        pass\n",
        "\n",
        "class Event(IEvent):\n",
        "    def __init__(self, title, date, location):\n",
        "        self.title = title\n",
        "        self.date = date\n",
        "        self.location = location\n",
        "\n",
        "    def update_location(self, location: str):\n",
        "        self.location = location\n",
        "\n",
        "    def get_details(self):\n",
        "        return f\"Мероприятие: {self.title}, Дата: {self.date}, Место: {self.location}\"\n",
        "\n",
        "\n",
        "event = Event(\"Стрелка\", \"today\", \"Нижний\")\n",
        "print(event.get_details())\n",
        "\n",
        "event.update_location(\"Санкт-Петербург\")\n",
        "print(event.get_details())"
      ],
      "metadata": {
        "id": "fp22SUiTCp6B",
        "outputId": "b9c67b70-217a-4daf-a50d-0c0061858592",
        "colab": {
          "base_uri": "https://localhost:8080/"
        }
      },
      "execution_count": null,
      "outputs": [
        {
          "output_type": "stream",
          "name": "stdout",
          "text": [
            "Мероприятие: Стрелка, Дата: today, Место: Нижний\n",
            "Мероприятие: Стрелка, Дата: today, Место: Санкт-Петербург\n"
          ]
        }
      ]
    }
  ]
}